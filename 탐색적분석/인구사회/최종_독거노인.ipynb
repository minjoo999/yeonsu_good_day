{
 "cells": [
  {
   "cell_type": "markdown",
   "id": "suspended-insured",
   "metadata": {},
   "source": [
    "# 모듈 + 불러오기"
   ]
  },
  {
   "cell_type": "code",
   "execution_count": 1,
   "id": "spatial-cookbook",
   "metadata": {},
   "outputs": [],
   "source": [
    "import pandas as pd\n",
    "import numpy as np"
   ]
  },
  {
   "cell_type": "code",
   "execution_count": 2,
   "id": "broken-gambling",
   "metadata": {},
   "outputs": [
    {
     "name": "stdout",
     "output_type": "stream",
     "text": [
      "[2022-09-30 16:42:28] 성공 - 4_연수구_독거노인.csv\n"
     ]
    },
    {
     "data": {
      "text/plain": [
       "'4_연수구_독거노인.csv'"
      ]
     },
     "execution_count": 2,
     "metadata": {},
     "output_type": "execute_result"
    }
   ],
   "source": [
    "from geoband.API import *\n",
    "GetCompasData('SBJ_2208_001', '4', '4_연수구_독거노인.csv')"
   ]
  },
  {
   "cell_type": "code",
   "execution_count": 3,
   "id": "present-bowling",
   "metadata": {},
   "outputs": [],
   "source": [
    "# 독거노인 : senior_alone\n",
    "# 2017 ~ 2022 데이터\n",
    "\n",
    "senior_alone = pd.read_csv('4_연수구_독거노인.csv')"
   ]
  },
  {
   "cell_type": "code",
   "execution_count": 4,
   "id": "adult-hypothetical",
   "metadata": {},
   "outputs": [
    {
     "data": {
      "text/plain": [
       "array([201712, 201812, 201912, 202012, 202112, 202206])"
      ]
     },
     "execution_count": 4,
     "metadata": {},
     "output_type": "execute_result"
    }
   ],
   "source": [
    "senior_alone['base_date'].unique()"
   ]
  },
  {
   "cell_type": "markdown",
   "id": "impressed-brooks",
   "metadata": {},
   "source": [
    "# 전처리"
   ]
  },
  {
   "cell_type": "code",
   "execution_count": 5,
   "id": "induced-society",
   "metadata": {},
   "outputs": [
    {
     "data": {
      "text/html": [
       "<div>\n",
       "<style scoped>\n",
       "    .dataframe tbody tr th:only-of-type {\n",
       "        vertical-align: middle;\n",
       "    }\n",
       "\n",
       "    .dataframe tbody tr th {\n",
       "        vertical-align: top;\n",
       "    }\n",
       "\n",
       "    .dataframe thead th {\n",
       "        text-align: right;\n",
       "    }\n",
       "</style>\n",
       "<table border=\"1\" class=\"dataframe\">\n",
       "  <thead>\n",
       "    <tr style=\"text-align: right;\">\n",
       "      <th></th>\n",
       "      <th>emd_nm</th>\n",
       "      <th>tot_cnt</th>\n",
       "      <th>m_cnt</th>\n",
       "      <th>w_cnt</th>\n",
       "      <th>base_date</th>\n",
       "    </tr>\n",
       "  </thead>\n",
       "  <tbody>\n",
       "    <tr>\n",
       "      <th>0</th>\n",
       "      <td>옥련1동</td>\n",
       "      <td>565</td>\n",
       "      <td>154</td>\n",
       "      <td>411</td>\n",
       "      <td>201712</td>\n",
       "    </tr>\n",
       "    <tr>\n",
       "      <th>1</th>\n",
       "      <td>옥련2동</td>\n",
       "      <td>415</td>\n",
       "      <td>115</td>\n",
       "      <td>300</td>\n",
       "      <td>201712</td>\n",
       "    </tr>\n",
       "    <tr>\n",
       "      <th>2</th>\n",
       "      <td>선학동</td>\n",
       "      <td>645</td>\n",
       "      <td>206</td>\n",
       "      <td>439</td>\n",
       "      <td>201712</td>\n",
       "    </tr>\n",
       "    <tr>\n",
       "      <th>3</th>\n",
       "      <td>연수1동</td>\n",
       "      <td>493</td>\n",
       "      <td>188</td>\n",
       "      <td>305</td>\n",
       "      <td>201712</td>\n",
       "    </tr>\n",
       "    <tr>\n",
       "      <th>4</th>\n",
       "      <td>연수2동</td>\n",
       "      <td>753</td>\n",
       "      <td>184</td>\n",
       "      <td>569</td>\n",
       "      <td>201712</td>\n",
       "    </tr>\n",
       "    <tr>\n",
       "      <th>...</th>\n",
       "      <td>...</td>\n",
       "      <td>...</td>\n",
       "      <td>...</td>\n",
       "      <td>...</td>\n",
       "      <td>...</td>\n",
       "    </tr>\n",
       "    <tr>\n",
       "      <th>81</th>\n",
       "      <td>연수2동</td>\n",
       "      <td>1100</td>\n",
       "      <td>307</td>\n",
       "      <td>793</td>\n",
       "      <td>202206</td>\n",
       "    </tr>\n",
       "    <tr>\n",
       "      <th>82</th>\n",
       "      <td>연수3동</td>\n",
       "      <td>1197</td>\n",
       "      <td>341</td>\n",
       "      <td>856</td>\n",
       "      <td>202206</td>\n",
       "    </tr>\n",
       "    <tr>\n",
       "      <th>83</th>\n",
       "      <td>옥련1동</td>\n",
       "      <td>833</td>\n",
       "      <td>251</td>\n",
       "      <td>582</td>\n",
       "      <td>202206</td>\n",
       "    </tr>\n",
       "    <tr>\n",
       "      <th>84</th>\n",
       "      <td>옥련2동</td>\n",
       "      <td>599</td>\n",
       "      <td>169</td>\n",
       "      <td>430</td>\n",
       "      <td>202206</td>\n",
       "    </tr>\n",
       "    <tr>\n",
       "      <th>85</th>\n",
       "      <td>청학동</td>\n",
       "      <td>1505</td>\n",
       "      <td>549</td>\n",
       "      <td>956</td>\n",
       "      <td>202206</td>\n",
       "    </tr>\n",
       "  </tbody>\n",
       "</table>\n",
       "<p>86 rows × 5 columns</p>\n",
       "</div>"
      ],
      "text/plain": [
       "   emd_nm  tot_cnt  m_cnt  w_cnt  base_date\n",
       "0    옥련1동      565    154    411     201712\n",
       "1    옥련2동      415    115    300     201712\n",
       "2    선학동       645    206    439     201712\n",
       "3    연수1동      493    188    305     201712\n",
       "4    연수2동      753    184    569     201712\n",
       "..    ...      ...    ...    ...        ...\n",
       "81   연수2동     1100    307    793     202206\n",
       "82   연수3동     1197    341    856     202206\n",
       "83   옥련1동      833    251    582     202206\n",
       "84   옥련2동      599    169    430     202206\n",
       "85    청학동     1505    549    956     202206\n",
       "\n",
       "[86 rows x 5 columns]"
      ]
     },
     "execution_count": 5,
     "metadata": {},
     "output_type": "execute_result"
    }
   ],
   "source": [
    "senior_alone"
   ]
  },
  {
   "cell_type": "code",
   "execution_count": 6,
   "id": "devoted-offense",
   "metadata": {},
   "outputs": [],
   "source": [
    "# 날짜데이터 문자열로 변환\n",
    "senior_alone['base_date'] = senior_alone['base_date'].astype('str')"
   ]
  },
  {
   "cell_type": "code",
   "execution_count": 7,
   "id": "about-bacteria",
   "metadata": {},
   "outputs": [],
   "source": [
    "# 연도만 추출\n",
    "date_list = list(senior_alone['base_date'])\n",
    "year = ['2017', '2018', '2019', '2020', '2021', '2022']\n",
    "\n",
    "for i in range(len(date_list)):\n",
    "    for j in range(len(year)):\n",
    "        if date_list[i][:-2] == year[j]:\n",
    "            date_list[i] = year[j]\n",
    "            \n",
    "senior_alone['base_date'] = date_list"
   ]
  },
  {
   "cell_type": "code",
   "execution_count": 8,
   "id": "surgical-alloy",
   "metadata": {},
   "outputs": [
    {
     "data": {
      "text/plain": [
       "array(['2017', '2018', '2019', '2020', '2021', '2022'], dtype=object)"
      ]
     },
     "execution_count": 8,
     "metadata": {},
     "output_type": "execute_result"
    }
   ],
   "source": [
    "senior_alone['base_date'].unique()"
   ]
  },
  {
   "cell_type": "code",
   "execution_count": 9,
   "id": "supported-firmware",
   "metadata": {},
   "outputs": [
    {
     "data": {
      "text/plain": [
       "array(['옥련1동', '옥련2동', '선학동 ', '연수1동', '연수2동', '연수3동', '청학동 ', '동춘1동',\n",
       "       '동춘2동', '동춘3동', '송도1동', '송도2동', '송도3동', '송도4동', '송도5동', '선학동',\n",
       "       '청학동'], dtype=object)"
      ]
     },
     "execution_count": 9,
     "metadata": {},
     "output_type": "execute_result"
    }
   ],
   "source": [
    "senior_alone['emd_nm'].unique()"
   ]
  },
  {
   "cell_type": "code",
   "execution_count": 10,
   "id": "computational-boring",
   "metadata": {},
   "outputs": [],
   "source": [
    "# 읍면동 명칭 수정\n",
    "senior_alone['emd_nm'] = senior_alone['emd_nm'].apply(lambda x :'옥련동' if x in ['옥련1동', '옥련2동'] else x )\n",
    "senior_alone['emd_nm'] = senior_alone['emd_nm'].apply(lambda x :'연수동' if x in ['연수1동', '연수2동', '연수3동'] else x )\n",
    "senior_alone['emd_nm'] = senior_alone['emd_nm'].apply(lambda x :'동춘동' if x in ['동춘1동', '동춘2동', '동춘3동'] else x )\n",
    "senior_alone['emd_nm'] = senior_alone['emd_nm'].apply(lambda x :'송도동' if x in ['송도1동', '송도2동', \n",
    "                                                                           '송도3동', '송도4동', '송도5동'] else x )\n",
    "senior_alone['emd_nm'] = senior_alone['emd_nm'].apply(lambda x :'선학동' if x in ['선학동', '선학동 '] else x )\n",
    "senior_alone['emd_nm'] = senior_alone['emd_nm'].apply(lambda x :'청학동' if x in ['청학동', '청학동 '] else x )"
   ]
  },
  {
   "cell_type": "code",
   "execution_count": 11,
   "id": "appointed-standard",
   "metadata": {},
   "outputs": [
    {
     "data": {
      "text/plain": [
       "array(['옥련동', '선학동', '연수동', '청학동', '동춘동', '송도동'], dtype=object)"
      ]
     },
     "execution_count": 11,
     "metadata": {},
     "output_type": "execute_result"
    }
   ],
   "source": [
    "senior_alone['emd_nm'].unique()"
   ]
  },
  {
   "cell_type": "code",
   "execution_count": 12,
   "id": "protective-newton",
   "metadata": {},
   "outputs": [],
   "source": [
    "# 연도 / 동 기준으로 groupby\n",
    "\n",
    "# tot_cnt : 독거노인 총 합\n",
    "# m_cnt : 남성 독거노인 수\n",
    "# w_cnt : 여성 독거노인 수\n",
    "\n",
    "senior_alone2 = senior_alone.copy()\n",
    "senior_alone2 = senior_alone2.groupby(['base_date', 'emd_nm']).sum()\n",
    "senior_alone2.reset_index(inplace = True)"
   ]
  },
  {
   "cell_type": "markdown",
   "id": "manufactured-renaissance",
   "metadata": {},
   "source": [
    "# 최종 : 독거노인_1821"
   ]
  },
  {
   "cell_type": "code",
   "execution_count": 13,
   "id": "split-cleveland",
   "metadata": {},
   "outputs": [],
   "source": [
    "senior_alone2['base_date'] = senior_alone2['base_date'].astype(int)"
   ]
  },
  {
   "cell_type": "code",
   "execution_count": 14,
   "id": "opening-protein",
   "metadata": {},
   "outputs": [
    {
     "data": {
      "text/html": [
       "<div>\n",
       "<style scoped>\n",
       "    .dataframe tbody tr th:only-of-type {\n",
       "        vertical-align: middle;\n",
       "    }\n",
       "\n",
       "    .dataframe tbody tr th {\n",
       "        vertical-align: top;\n",
       "    }\n",
       "\n",
       "    .dataframe thead th {\n",
       "        text-align: right;\n",
       "    }\n",
       "</style>\n",
       "<table border=\"1\" class=\"dataframe\">\n",
       "  <thead>\n",
       "    <tr style=\"text-align: right;\">\n",
       "      <th></th>\n",
       "      <th>base_date</th>\n",
       "      <th>emd_nm</th>\n",
       "      <th>tot_cnt</th>\n",
       "      <th>m_cnt</th>\n",
       "      <th>w_cnt</th>\n",
       "    </tr>\n",
       "  </thead>\n",
       "  <tbody>\n",
       "    <tr>\n",
       "      <th>0</th>\n",
       "      <td>2018</td>\n",
       "      <td>동춘동</td>\n",
       "      <td>705</td>\n",
       "      <td>181</td>\n",
       "      <td>524</td>\n",
       "    </tr>\n",
       "    <tr>\n",
       "      <th>1</th>\n",
       "      <td>2018</td>\n",
       "      <td>선학동</td>\n",
       "      <td>701</td>\n",
       "      <td>225</td>\n",
       "      <td>476</td>\n",
       "    </tr>\n",
       "    <tr>\n",
       "      <th>2</th>\n",
       "      <td>2018</td>\n",
       "      <td>송도동</td>\n",
       "      <td>641</td>\n",
       "      <td>188</td>\n",
       "      <td>453</td>\n",
       "    </tr>\n",
       "    <tr>\n",
       "      <th>3</th>\n",
       "      <td>2018</td>\n",
       "      <td>연수동</td>\n",
       "      <td>2296</td>\n",
       "      <td>639</td>\n",
       "      <td>1657</td>\n",
       "    </tr>\n",
       "    <tr>\n",
       "      <th>4</th>\n",
       "      <td>2018</td>\n",
       "      <td>옥련동</td>\n",
       "      <td>1066</td>\n",
       "      <td>287</td>\n",
       "      <td>779</td>\n",
       "    </tr>\n",
       "  </tbody>\n",
       "</table>\n",
       "</div>"
      ],
      "text/plain": [
       "   base_date emd_nm  tot_cnt  m_cnt  w_cnt\n",
       "0       2018    동춘동      705    181    524\n",
       "1       2018    선학동      701    225    476\n",
       "2       2018    송도동      641    188    453\n",
       "3       2018    연수동     2296    639   1657\n",
       "4       2018    옥련동     1066    287    779"
      ]
     },
     "execution_count": 14,
     "metadata": {},
     "output_type": "execute_result"
    }
   ],
   "source": [
    "# 18 ~ 21 년만 뽑기\n",
    "\n",
    "senior_alone_1822 = senior_alone2[senior_alone2['base_date'] >= 2018]\n",
    "senior_alone_1821 = senior_alone_1822[senior_alone_1822['base_date'] < 2022]\n",
    "senior_alone_1821.reset_index(inplace = True)\n",
    "senior_alone_1821 = senior_alone_1821.drop(columns = 'index')\n",
    "senior_alone_1821.head()"
   ]
  },
  {
   "cell_type": "code",
   "execution_count": 15,
   "id": "grand-referral",
   "metadata": {},
   "outputs": [],
   "source": [
    "# 저장\n",
    "senior_alone_1821.to_csv('최종_독거노인_1821.csv', encoding = 'utf-8', index = False)"
   ]
  },
  {
   "cell_type": "code",
   "execution_count": 16,
   "id": "three-opportunity",
   "metadata": {},
   "outputs": [
    {
     "data": {
      "text/html": [
       "<div>\n",
       "<style scoped>\n",
       "    .dataframe tbody tr th:only-of-type {\n",
       "        vertical-align: middle;\n",
       "    }\n",
       "\n",
       "    .dataframe tbody tr th {\n",
       "        vertical-align: top;\n",
       "    }\n",
       "\n",
       "    .dataframe thead th {\n",
       "        text-align: right;\n",
       "    }\n",
       "</style>\n",
       "<table border=\"1\" class=\"dataframe\">\n",
       "  <thead>\n",
       "    <tr style=\"text-align: right;\">\n",
       "      <th></th>\n",
       "      <th>base_date</th>\n",
       "      <th>emd_nm</th>\n",
       "      <th>tot_cnt</th>\n",
       "      <th>m_cnt</th>\n",
       "      <th>w_cnt</th>\n",
       "    </tr>\n",
       "  </thead>\n",
       "  <tbody>\n",
       "    <tr>\n",
       "      <th>0</th>\n",
       "      <td>2018</td>\n",
       "      <td>동춘동</td>\n",
       "      <td>705</td>\n",
       "      <td>181</td>\n",
       "      <td>524</td>\n",
       "    </tr>\n",
       "    <tr>\n",
       "      <th>1</th>\n",
       "      <td>2018</td>\n",
       "      <td>선학동</td>\n",
       "      <td>701</td>\n",
       "      <td>225</td>\n",
       "      <td>476</td>\n",
       "    </tr>\n",
       "    <tr>\n",
       "      <th>2</th>\n",
       "      <td>2018</td>\n",
       "      <td>송도동</td>\n",
       "      <td>641</td>\n",
       "      <td>188</td>\n",
       "      <td>453</td>\n",
       "    </tr>\n",
       "    <tr>\n",
       "      <th>3</th>\n",
       "      <td>2018</td>\n",
       "      <td>연수동</td>\n",
       "      <td>2296</td>\n",
       "      <td>639</td>\n",
       "      <td>1657</td>\n",
       "    </tr>\n",
       "    <tr>\n",
       "      <th>4</th>\n",
       "      <td>2018</td>\n",
       "      <td>옥련동</td>\n",
       "      <td>1066</td>\n",
       "      <td>287</td>\n",
       "      <td>779</td>\n",
       "    </tr>\n",
       "  </tbody>\n",
       "</table>\n",
       "</div>"
      ],
      "text/plain": [
       "   base_date emd_nm  tot_cnt  m_cnt  w_cnt\n",
       "0       2018    동춘동      705    181    524\n",
       "1       2018    선학동      701    225    476\n",
       "2       2018    송도동      641    188    453\n",
       "3       2018    연수동     2296    639   1657\n",
       "4       2018    옥련동     1066    287    779"
      ]
     },
     "execution_count": 16,
     "metadata": {},
     "output_type": "execute_result"
    }
   ],
   "source": [
    "# 불러오기\n",
    "senior_alone_fin = pd.read_csv('최종_독거노인_1821.csv', encoding = 'utf-8')\n",
    "senior_alone_fin.head()"
   ]
  },
  {
   "cell_type": "markdown",
   "id": "willing-surgeon",
   "metadata": {},
   "source": [
    "# 최종 : 독거노인_신도심_원도심"
   ]
  },
  {
   "cell_type": "code",
   "execution_count": 17,
   "id": "administrative-browser",
   "metadata": {},
   "outputs": [
    {
     "data": {
      "text/html": [
       "<div>\n",
       "<style scoped>\n",
       "    .dataframe tbody tr th:only-of-type {\n",
       "        vertical-align: middle;\n",
       "    }\n",
       "\n",
       "    .dataframe tbody tr th {\n",
       "        vertical-align: top;\n",
       "    }\n",
       "\n",
       "    .dataframe thead th {\n",
       "        text-align: right;\n",
       "    }\n",
       "</style>\n",
       "<table border=\"1\" class=\"dataframe\">\n",
       "  <thead>\n",
       "    <tr style=\"text-align: right;\">\n",
       "      <th></th>\n",
       "      <th>base_date</th>\n",
       "      <th>emd_nm</th>\n",
       "      <th>tot_cnt</th>\n",
       "      <th>m_cnt</th>\n",
       "      <th>w_cnt</th>\n",
       "    </tr>\n",
       "  </thead>\n",
       "  <tbody>\n",
       "    <tr>\n",
       "      <th>0</th>\n",
       "      <td>2018</td>\n",
       "      <td>동춘동</td>\n",
       "      <td>705</td>\n",
       "      <td>181</td>\n",
       "      <td>524</td>\n",
       "    </tr>\n",
       "    <tr>\n",
       "      <th>1</th>\n",
       "      <td>2018</td>\n",
       "      <td>선학동</td>\n",
       "      <td>701</td>\n",
       "      <td>225</td>\n",
       "      <td>476</td>\n",
       "    </tr>\n",
       "    <tr>\n",
       "      <th>2</th>\n",
       "      <td>2018</td>\n",
       "      <td>송도동</td>\n",
       "      <td>641</td>\n",
       "      <td>188</td>\n",
       "      <td>453</td>\n",
       "    </tr>\n",
       "    <tr>\n",
       "      <th>3</th>\n",
       "      <td>2018</td>\n",
       "      <td>연수동</td>\n",
       "      <td>2296</td>\n",
       "      <td>639</td>\n",
       "      <td>1657</td>\n",
       "    </tr>\n",
       "    <tr>\n",
       "      <th>4</th>\n",
       "      <td>2018</td>\n",
       "      <td>옥련동</td>\n",
       "      <td>1066</td>\n",
       "      <td>287</td>\n",
       "      <td>779</td>\n",
       "    </tr>\n",
       "  </tbody>\n",
       "</table>\n",
       "</div>"
      ],
      "text/plain": [
       "   base_date emd_nm  tot_cnt  m_cnt  w_cnt\n",
       "0       2018    동춘동      705    181    524\n",
       "1       2018    선학동      701    225    476\n",
       "2       2018    송도동      641    188    453\n",
       "3       2018    연수동     2296    639   1657\n",
       "4       2018    옥련동     1066    287    779"
      ]
     },
     "execution_count": 17,
     "metadata": {},
     "output_type": "execute_result"
    }
   ],
   "source": [
    "senior_alone_fin.head()"
   ]
  },
  {
   "cell_type": "code",
   "execution_count": 18,
   "id": "further-monitor",
   "metadata": {},
   "outputs": [
    {
     "data": {
      "text/html": [
       "<div>\n",
       "<style scoped>\n",
       "    .dataframe tbody tr th:only-of-type {\n",
       "        vertical-align: middle;\n",
       "    }\n",
       "\n",
       "    .dataframe tbody tr th {\n",
       "        vertical-align: top;\n",
       "    }\n",
       "\n",
       "    .dataframe thead th {\n",
       "        text-align: right;\n",
       "    }\n",
       "</style>\n",
       "<table border=\"1\" class=\"dataframe\">\n",
       "  <thead>\n",
       "    <tr style=\"text-align: right;\">\n",
       "      <th></th>\n",
       "      <th>base_date</th>\n",
       "      <th>center</th>\n",
       "      <th>tot_cnt</th>\n",
       "      <th>m_cnt</th>\n",
       "      <th>w_cnt</th>\n",
       "    </tr>\n",
       "  </thead>\n",
       "  <tbody>\n",
       "    <tr>\n",
       "      <th>0</th>\n",
       "      <td>2018</td>\n",
       "      <td>원도심</td>\n",
       "      <td>5792</td>\n",
       "      <td>1676</td>\n",
       "      <td>4116</td>\n",
       "    </tr>\n",
       "    <tr>\n",
       "      <th>1</th>\n",
       "      <td>2019</td>\n",
       "      <td>원도심</td>\n",
       "      <td>6436</td>\n",
       "      <td>1917</td>\n",
       "      <td>4519</td>\n",
       "    </tr>\n",
       "    <tr>\n",
       "      <th>2</th>\n",
       "      <td>2020</td>\n",
       "      <td>원도심</td>\n",
       "      <td>7168</td>\n",
       "      <td>2204</td>\n",
       "      <td>4964</td>\n",
       "    </tr>\n",
       "    <tr>\n",
       "      <th>3</th>\n",
       "      <td>2021</td>\n",
       "      <td>원도심</td>\n",
       "      <td>7743</td>\n",
       "      <td>2413</td>\n",
       "      <td>5330</td>\n",
       "    </tr>\n",
       "  </tbody>\n",
       "</table>\n",
       "</div>"
      ],
      "text/plain": [
       "   base_date center  tot_cnt  m_cnt  w_cnt\n",
       "0       2018    원도심     5792   1676   4116\n",
       "1       2019    원도심     6436   1917   4519\n",
       "2       2020    원도심     7168   2204   4964\n",
       "3       2021    원도심     7743   2413   5330"
      ]
     },
     "execution_count": 18,
     "metadata": {},
     "output_type": "execute_result"
    }
   ],
   "source": [
    "# 원도심\n",
    "senior_alone_old = senior_alone_fin[senior_alone_fin['emd_nm'] != '송도동']\n",
    "senior_alone_old = senior_alone_old.groupby('base_date').sum()\n",
    "senior_alone_old.reset_index(inplace = True)\n",
    "senior_alone_old.insert(1, 'center', '원도심')\n",
    "senior_alone_old"
   ]
  },
  {
   "cell_type": "code",
   "execution_count": 19,
   "id": "sharing-belgium",
   "metadata": {},
   "outputs": [
    {
     "data": {
      "text/html": [
       "<div>\n",
       "<style scoped>\n",
       "    .dataframe tbody tr th:only-of-type {\n",
       "        vertical-align: middle;\n",
       "    }\n",
       "\n",
       "    .dataframe tbody tr th {\n",
       "        vertical-align: top;\n",
       "    }\n",
       "\n",
       "    .dataframe thead th {\n",
       "        text-align: right;\n",
       "    }\n",
       "</style>\n",
       "<table border=\"1\" class=\"dataframe\">\n",
       "  <thead>\n",
       "    <tr style=\"text-align: right;\">\n",
       "      <th></th>\n",
       "      <th>base_date</th>\n",
       "      <th>center</th>\n",
       "      <th>tot_cnt</th>\n",
       "      <th>m_cnt</th>\n",
       "      <th>w_cnt</th>\n",
       "    </tr>\n",
       "  </thead>\n",
       "  <tbody>\n",
       "    <tr>\n",
       "      <th>0</th>\n",
       "      <td>2018</td>\n",
       "      <td>신도시</td>\n",
       "      <td>641</td>\n",
       "      <td>188</td>\n",
       "      <td>453</td>\n",
       "    </tr>\n",
       "    <tr>\n",
       "      <th>1</th>\n",
       "      <td>2019</td>\n",
       "      <td>신도시</td>\n",
       "      <td>772</td>\n",
       "      <td>229</td>\n",
       "      <td>543</td>\n",
       "    </tr>\n",
       "    <tr>\n",
       "      <th>2</th>\n",
       "      <td>2020</td>\n",
       "      <td>신도시</td>\n",
       "      <td>1839</td>\n",
       "      <td>992</td>\n",
       "      <td>847</td>\n",
       "    </tr>\n",
       "    <tr>\n",
       "      <th>3</th>\n",
       "      <td>2021</td>\n",
       "      <td>신도시</td>\n",
       "      <td>1158</td>\n",
       "      <td>339</td>\n",
       "      <td>819</td>\n",
       "    </tr>\n",
       "  </tbody>\n",
       "</table>\n",
       "</div>"
      ],
      "text/plain": [
       "   base_date center  tot_cnt  m_cnt  w_cnt\n",
       "0       2018    신도시      641    188    453\n",
       "1       2019    신도시      772    229    543\n",
       "2       2020    신도시     1839    992    847\n",
       "3       2021    신도시     1158    339    819"
      ]
     },
     "execution_count": 19,
     "metadata": {},
     "output_type": "execute_result"
    }
   ],
   "source": [
    "# 신도시\n",
    "senior_alone_new = senior_alone_fin[senior_alone_fin['emd_nm'] == '송도동']\n",
    "senior_alone_new.reset_index(inplace = True)\n",
    "senior_alone_new = senior_alone_new.drop(columns = 'index')\n",
    "senior_alone_new = senior_alone_new.rename(columns = {'emd_nm' : 'center'})\n",
    "senior_alone_new['center'] = '신도시'\n",
    "senior_alone_new"
   ]
  },
  {
   "cell_type": "code",
   "execution_count": 20,
   "id": "accurate-galaxy",
   "metadata": {},
   "outputs": [
    {
     "data": {
      "text/html": [
       "<div>\n",
       "<style scoped>\n",
       "    .dataframe tbody tr th:only-of-type {\n",
       "        vertical-align: middle;\n",
       "    }\n",
       "\n",
       "    .dataframe tbody tr th {\n",
       "        vertical-align: top;\n",
       "    }\n",
       "\n",
       "    .dataframe thead th {\n",
       "        text-align: right;\n",
       "    }\n",
       "</style>\n",
       "<table border=\"1\" class=\"dataframe\">\n",
       "  <thead>\n",
       "    <tr style=\"text-align: right;\">\n",
       "      <th></th>\n",
       "      <th>base_date</th>\n",
       "      <th>center</th>\n",
       "      <th>tot_cnt</th>\n",
       "      <th>m_cnt</th>\n",
       "      <th>w_cnt</th>\n",
       "    </tr>\n",
       "  </thead>\n",
       "  <tbody>\n",
       "    <tr>\n",
       "      <th>0</th>\n",
       "      <td>2018</td>\n",
       "      <td>원도심</td>\n",
       "      <td>5792</td>\n",
       "      <td>1676</td>\n",
       "      <td>4116</td>\n",
       "    </tr>\n",
       "    <tr>\n",
       "      <th>1</th>\n",
       "      <td>2018</td>\n",
       "      <td>신도시</td>\n",
       "      <td>641</td>\n",
       "      <td>188</td>\n",
       "      <td>453</td>\n",
       "    </tr>\n",
       "    <tr>\n",
       "      <th>2</th>\n",
       "      <td>2019</td>\n",
       "      <td>원도심</td>\n",
       "      <td>6436</td>\n",
       "      <td>1917</td>\n",
       "      <td>4519</td>\n",
       "    </tr>\n",
       "    <tr>\n",
       "      <th>3</th>\n",
       "      <td>2019</td>\n",
       "      <td>신도시</td>\n",
       "      <td>772</td>\n",
       "      <td>229</td>\n",
       "      <td>543</td>\n",
       "    </tr>\n",
       "    <tr>\n",
       "      <th>4</th>\n",
       "      <td>2020</td>\n",
       "      <td>원도심</td>\n",
       "      <td>7168</td>\n",
       "      <td>2204</td>\n",
       "      <td>4964</td>\n",
       "    </tr>\n",
       "    <tr>\n",
       "      <th>5</th>\n",
       "      <td>2020</td>\n",
       "      <td>신도시</td>\n",
       "      <td>1839</td>\n",
       "      <td>992</td>\n",
       "      <td>847</td>\n",
       "    </tr>\n",
       "    <tr>\n",
       "      <th>6</th>\n",
       "      <td>2021</td>\n",
       "      <td>원도심</td>\n",
       "      <td>7743</td>\n",
       "      <td>2413</td>\n",
       "      <td>5330</td>\n",
       "    </tr>\n",
       "    <tr>\n",
       "      <th>7</th>\n",
       "      <td>2021</td>\n",
       "      <td>신도시</td>\n",
       "      <td>1158</td>\n",
       "      <td>339</td>\n",
       "      <td>819</td>\n",
       "    </tr>\n",
       "  </tbody>\n",
       "</table>\n",
       "</div>"
      ],
      "text/plain": [
       "   base_date center  tot_cnt  m_cnt  w_cnt\n",
       "0       2018    원도심     5792   1676   4116\n",
       "1       2018    신도시      641    188    453\n",
       "2       2019    원도심     6436   1917   4519\n",
       "3       2019    신도시      772    229    543\n",
       "4       2020    원도심     7168   2204   4964\n",
       "5       2020    신도시     1839    992    847\n",
       "6       2021    원도심     7743   2413   5330\n",
       "7       2021    신도시     1158    339    819"
      ]
     },
     "execution_count": 20,
     "metadata": {},
     "output_type": "execute_result"
    }
   ],
   "source": [
    "# 합치기\n",
    "\n",
    "senior_alone_old_new = pd.concat([senior_alone_old, senior_alone_new])\n",
    "senior_alone_old_new = senior_alone_old_new.sort_values(by = senior_alone_old_new.columns[0])\n",
    "senior_alone_old_new.reset_index(inplace = True)\n",
    "senior_alone_old_new = senior_alone_old_new.drop(columns = 'index')\n",
    "senior_alone_old_new"
   ]
  },
  {
   "cell_type": "code",
   "execution_count": 21,
   "id": "lyric-invention",
   "metadata": {},
   "outputs": [],
   "source": [
    "# 저장\n",
    "senior_alone_old_new.to_csv('최종_독거노인_신도시_원도심.csv', encoding = 'utf-8', index = False)"
   ]
  },
  {
   "cell_type": "code",
   "execution_count": 22,
   "id": "starting-thought",
   "metadata": {},
   "outputs": [
    {
     "data": {
      "text/html": [
       "<div>\n",
       "<style scoped>\n",
       "    .dataframe tbody tr th:only-of-type {\n",
       "        vertical-align: middle;\n",
       "    }\n",
       "\n",
       "    .dataframe tbody tr th {\n",
       "        vertical-align: top;\n",
       "    }\n",
       "\n",
       "    .dataframe thead th {\n",
       "        text-align: right;\n",
       "    }\n",
       "</style>\n",
       "<table border=\"1\" class=\"dataframe\">\n",
       "  <thead>\n",
       "    <tr style=\"text-align: right;\">\n",
       "      <th></th>\n",
       "      <th>base_date</th>\n",
       "      <th>center</th>\n",
       "      <th>tot_cnt</th>\n",
       "      <th>m_cnt</th>\n",
       "      <th>w_cnt</th>\n",
       "    </tr>\n",
       "  </thead>\n",
       "  <tbody>\n",
       "    <tr>\n",
       "      <th>0</th>\n",
       "      <td>2018</td>\n",
       "      <td>원도심</td>\n",
       "      <td>5792</td>\n",
       "      <td>1676</td>\n",
       "      <td>4116</td>\n",
       "    </tr>\n",
       "    <tr>\n",
       "      <th>1</th>\n",
       "      <td>2018</td>\n",
       "      <td>신도시</td>\n",
       "      <td>641</td>\n",
       "      <td>188</td>\n",
       "      <td>453</td>\n",
       "    </tr>\n",
       "    <tr>\n",
       "      <th>2</th>\n",
       "      <td>2019</td>\n",
       "      <td>원도심</td>\n",
       "      <td>6436</td>\n",
       "      <td>1917</td>\n",
       "      <td>4519</td>\n",
       "    </tr>\n",
       "    <tr>\n",
       "      <th>3</th>\n",
       "      <td>2019</td>\n",
       "      <td>신도시</td>\n",
       "      <td>772</td>\n",
       "      <td>229</td>\n",
       "      <td>543</td>\n",
       "    </tr>\n",
       "    <tr>\n",
       "      <th>4</th>\n",
       "      <td>2020</td>\n",
       "      <td>원도심</td>\n",
       "      <td>7168</td>\n",
       "      <td>2204</td>\n",
       "      <td>4964</td>\n",
       "    </tr>\n",
       "  </tbody>\n",
       "</table>\n",
       "</div>"
      ],
      "text/plain": [
       "   base_date center  tot_cnt  m_cnt  w_cnt\n",
       "0       2018    원도심     5792   1676   4116\n",
       "1       2018    신도시      641    188    453\n",
       "2       2019    원도심     6436   1917   4519\n",
       "3       2019    신도시      772    229    543\n",
       "4       2020    원도심     7168   2204   4964"
      ]
     },
     "execution_count": 22,
     "metadata": {},
     "output_type": "execute_result"
    }
   ],
   "source": [
    "# 불러오기\n",
    "senior_old_new_fin = pd.read_csv('최종_독거노인_신도시_원도심.csv', encoding = 'utf-8')\n",
    "senior_old_new_fin.head()"
   ]
  },
  {
   "cell_type": "code",
   "execution_count": null,
   "id": "instrumental-valentine",
   "metadata": {},
   "outputs": [],
   "source": []
  }
 ],
 "metadata": {
  "kernelspec": {
   "display_name": "Python 3",
   "language": "python",
   "name": "python3"
  },
  "language_info": {
   "codemirror_mode": {
    "name": "ipython",
    "version": 3
   },
   "file_extension": ".py",
   "mimetype": "text/x-python",
   "name": "python",
   "nbconvert_exporter": "python",
   "pygments_lexer": "ipython3",
   "version": "3.6.9"
  }
 },
 "nbformat": 4,
 "nbformat_minor": 5
}
